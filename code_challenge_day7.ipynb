{
 "cells": [
  {
   "cell_type": "code",
   "execution_count": 2,
   "id": "46cd1bc7",
   "metadata": {},
   "outputs": [],
   "source": [
    "#!pip install dask[complete]\n",
    "\n",
    "#Using DASK"
   ]
  },
  {
   "cell_type": "code",
   "execution_count": 3,
   "id": "ca002943",
   "metadata": {},
   "outputs": [],
   "source": [
    "import os\n",
    "import pandas as pd\n",
    "import dask.dataframe as dd\n",
    "import matplotlib.pyplot as plt"
   ]
  },
  {
   "cell_type": "code",
   "execution_count": 4,
   "id": "cc10fbdf",
   "metadata": {},
   "outputs": [],
   "source": [
    "os.chdir(\"C:\\\\Users\\\\HP\\\\Desktop\\\\code challenges\\\\datasets\")"
   ]
  },
  {
   "cell_type": "code",
   "execution_count": 5,
   "id": "46e4126e",
   "metadata": {},
   "outputs": [],
   "source": [
    "df = pd.read_csv(\"train_nyc_taxi.csv\")"
   ]
  },
  {
   "cell_type": "code",
   "execution_count": 6,
   "id": "df4b1113",
   "metadata": {},
   "outputs": [
    {
     "data": {
      "text/html": [
       "<div>\n",
       "<style scoped>\n",
       "    .dataframe tbody tr th:only-of-type {\n",
       "        vertical-align: middle;\n",
       "    }\n",
       "\n",
       "    .dataframe tbody tr th {\n",
       "        vertical-align: top;\n",
       "    }\n",
       "\n",
       "    .dataframe thead th {\n",
       "        text-align: right;\n",
       "    }\n",
       "</style>\n",
       "<table border=\"1\" class=\"dataframe\">\n",
       "  <thead>\n",
       "    <tr style=\"text-align: right;\">\n",
       "      <th></th>\n",
       "      <th>id</th>\n",
       "      <th>vendor_id</th>\n",
       "      <th>pickup_datetime</th>\n",
       "      <th>dropoff_datetime</th>\n",
       "      <th>passenger_count</th>\n",
       "      <th>pickup_longitude</th>\n",
       "      <th>pickup_latitude</th>\n",
       "      <th>dropoff_longitude</th>\n",
       "      <th>dropoff_latitude</th>\n",
       "      <th>store_and_fwd_flag</th>\n",
       "      <th>trip_duration</th>\n",
       "    </tr>\n",
       "  </thead>\n",
       "  <tbody>\n",
       "    <tr>\n",
       "      <th>0</th>\n",
       "      <td>id2875421</td>\n",
       "      <td>2</td>\n",
       "      <td>2016-03-14 17:24:55</td>\n",
       "      <td>2016-03-14 17:32:30</td>\n",
       "      <td>1</td>\n",
       "      <td>-73.982155</td>\n",
       "      <td>40.767937</td>\n",
       "      <td>-73.964630</td>\n",
       "      <td>40.765602</td>\n",
       "      <td>N</td>\n",
       "      <td>455</td>\n",
       "    </tr>\n",
       "    <tr>\n",
       "      <th>1</th>\n",
       "      <td>id2377394</td>\n",
       "      <td>1</td>\n",
       "      <td>2016-06-12 00:43:35</td>\n",
       "      <td>2016-06-12 00:54:38</td>\n",
       "      <td>1</td>\n",
       "      <td>-73.980415</td>\n",
       "      <td>40.738564</td>\n",
       "      <td>-73.999481</td>\n",
       "      <td>40.731152</td>\n",
       "      <td>N</td>\n",
       "      <td>663</td>\n",
       "    </tr>\n",
       "    <tr>\n",
       "      <th>2</th>\n",
       "      <td>id3858529</td>\n",
       "      <td>2</td>\n",
       "      <td>2016-01-19 11:35:24</td>\n",
       "      <td>2016-01-19 12:10:48</td>\n",
       "      <td>1</td>\n",
       "      <td>-73.979027</td>\n",
       "      <td>40.763939</td>\n",
       "      <td>-74.005333</td>\n",
       "      <td>40.710087</td>\n",
       "      <td>N</td>\n",
       "      <td>2124</td>\n",
       "    </tr>\n",
       "    <tr>\n",
       "      <th>3</th>\n",
       "      <td>id3504673</td>\n",
       "      <td>2</td>\n",
       "      <td>2016-04-06 19:32:31</td>\n",
       "      <td>2016-04-06 19:39:40</td>\n",
       "      <td>1</td>\n",
       "      <td>-74.010040</td>\n",
       "      <td>40.719971</td>\n",
       "      <td>-74.012268</td>\n",
       "      <td>40.706718</td>\n",
       "      <td>N</td>\n",
       "      <td>429</td>\n",
       "    </tr>\n",
       "    <tr>\n",
       "      <th>4</th>\n",
       "      <td>id2181028</td>\n",
       "      <td>2</td>\n",
       "      <td>2016-03-26 13:30:55</td>\n",
       "      <td>2016-03-26 13:38:10</td>\n",
       "      <td>1</td>\n",
       "      <td>-73.973053</td>\n",
       "      <td>40.793209</td>\n",
       "      <td>-73.972923</td>\n",
       "      <td>40.782520</td>\n",
       "      <td>N</td>\n",
       "      <td>435</td>\n",
       "    </tr>\n",
       "  </tbody>\n",
       "</table>\n",
       "</div>"
      ],
      "text/plain": [
       "          id  vendor_id      pickup_datetime     dropoff_datetime  \\\n",
       "0  id2875421          2  2016-03-14 17:24:55  2016-03-14 17:32:30   \n",
       "1  id2377394          1  2016-06-12 00:43:35  2016-06-12 00:54:38   \n",
       "2  id3858529          2  2016-01-19 11:35:24  2016-01-19 12:10:48   \n",
       "3  id3504673          2  2016-04-06 19:32:31  2016-04-06 19:39:40   \n",
       "4  id2181028          2  2016-03-26 13:30:55  2016-03-26 13:38:10   \n",
       "\n",
       "   passenger_count  pickup_longitude  pickup_latitude  dropoff_longitude  \\\n",
       "0                1        -73.982155        40.767937         -73.964630   \n",
       "1                1        -73.980415        40.738564         -73.999481   \n",
       "2                1        -73.979027        40.763939         -74.005333   \n",
       "3                1        -74.010040        40.719971         -74.012268   \n",
       "4                1        -73.973053        40.793209         -73.972923   \n",
       "\n",
       "   dropoff_latitude store_and_fwd_flag  trip_duration  \n",
       "0         40.765602                  N            455  \n",
       "1         40.731152                  N            663  \n",
       "2         40.710087                  N           2124  \n",
       "3         40.706718                  N            429  \n",
       "4         40.782520                  N            435  "
      ]
     },
     "execution_count": 6,
     "metadata": {},
     "output_type": "execute_result"
    }
   ],
   "source": [
    "df.head()"
   ]
  },
  {
   "cell_type": "code",
   "execution_count": 7,
   "id": "7808f9a5",
   "metadata": {},
   "outputs": [
    {
     "data": {
      "text/plain": [
       "(1458644, 11)"
      ]
     },
     "execution_count": 7,
     "metadata": {},
     "output_type": "execute_result"
    }
   ],
   "source": [
    "df.shape"
   ]
  },
  {
   "cell_type": "code",
   "execution_count": 8,
   "id": "7e48e85e",
   "metadata": {},
   "outputs": [],
   "source": [
    "df['pickup_datetime'] = dd.to_datetime(df['pickup_datetime'])"
   ]
  },
  {
   "cell_type": "code",
   "execution_count": 9,
   "id": "69eadfc2",
   "metadata": {},
   "outputs": [],
   "source": [
    "january_rides = df[df['pickup_datetime'].dt.month == 1]"
   ]
  },
  {
   "cell_type": "code",
   "execution_count": 10,
   "id": "4c82eda9",
   "metadata": {},
   "outputs": [],
   "source": [
    "daily_avg_duration = january_rides.groupby(january_rides['pickup_datetime'].dt.date)['trip_duration'].mean()"
   ]
  },
  {
   "cell_type": "code",
   "execution_count": 11,
   "id": "06761213",
   "metadata": {},
   "outputs": [
    {
     "data": {
      "text/plain": [
       "pickup_datetime\n",
       "2016-01-01     920.679978\n",
       "2016-01-02     840.084767\n",
       "2016-01-03     924.667086\n",
       "2016-01-04     851.118662\n",
       "2016-01-05    1455.344808\n",
       "2016-01-06     838.498303\n",
       "2016-01-07     832.135704\n",
       "2016-01-08     872.034877\n",
       "2016-01-09     808.494637\n",
       "2016-01-10     749.059163\n",
       "2016-01-11     864.974024\n",
       "2016-01-12     853.027200\n",
       "2016-01-13     857.456818\n",
       "2016-01-14     905.232693\n",
       "2016-01-15     943.433072\n",
       "2016-01-16     889.682392\n",
       "2016-01-17     884.656571\n",
       "2016-01-18     715.627764\n",
       "2016-01-19     956.777918\n",
       "2016-01-20     904.585433\n",
       "2016-01-21     910.767403\n",
       "2016-01-22     934.412834\n",
       "2016-01-23    1026.549757\n",
       "2016-01-24     902.189477\n",
       "2016-01-25    1138.146121\n",
       "2016-01-26    1226.126063\n",
       "2016-01-27    1040.240259\n",
       "2016-01-28    1023.078354\n",
       "2016-01-29     939.028735\n",
       "2016-01-30     865.482108\n",
       "2016-01-31     882.888657\n",
       "Name: trip_duration, dtype: float64"
      ]
     },
     "execution_count": 11,
     "metadata": {},
     "output_type": "execute_result"
    }
   ],
   "source": [
    "daily_avg_duration"
   ]
  },
  {
   "cell_type": "code",
   "execution_count": 12,
   "id": "e1951028",
   "metadata": {},
   "outputs": [
    {
     "name": "stdout",
     "output_type": "stream",
     "text": [
      "pickup_datetime\n",
      "2016-01-01    7162\n",
      "2016-01-02    6512\n",
      "2016-01-03    6353\n",
      "2016-01-04    6725\n",
      "2016-01-05    7204\n",
      "2016-01-06    7365\n",
      "2016-01-07    7649\n",
      "2016-01-08    8229\n",
      "2016-01-09    8578\n",
      "2016-01-10    7454\n",
      "2016-01-11    7276\n",
      "2016-01-12    7794\n",
      "2016-01-13    8360\n",
      "2016-01-14    8277\n",
      "2016-01-15    8539\n",
      "2016-01-16    8797\n",
      "2016-01-17    7891\n",
      "2016-01-18    7146\n",
      "2016-01-19    7934\n",
      "2016-01-20    8018\n",
      "2016-01-21    8375\n",
      "2016-01-22    8805\n",
      "2016-01-23    1648\n",
      "2016-01-24    3383\n",
      "2016-01-25    6084\n",
      "2016-01-26    6941\n",
      "2016-01-27    7571\n",
      "2016-01-28    8066\n",
      "2016-01-29    8735\n",
      "2016-01-30    9166\n",
      "2016-01-31    7670\n",
      "Name: id, dtype: int64\n"
     ]
    }
   ],
   "source": [
    "#the number of trips per day in January\n",
    "daily_trip_count = january_rides.groupby(january_rides['pickup_datetime'].dt.date)['id'].count()\n",
    "print(daily_trip_count)"
   ]
  },
  {
   "cell_type": "code",
   "execution_count": 13,
   "id": "c3a9b0d6",
   "metadata": {},
   "outputs": [
    {
     "data": {
      "image/png": "[encoded data removed]",
      "text/plain": [
       "<Figure size 640x480 with 1 Axes>"
      ]
     },
     "metadata": {},
     "output_type": "display_data"
    },
    {
     "data": {
      "image/png": "[encoded data removed]",
      "text/plain": [
       "<Figure size 640x480 with 1 Axes>"
      ]
     },
     "metadata": {},
     "output_type": "display_data"
    }
   ],
   "source": [
    "daily_avg_duration.plot(kind='bar')\n",
    "plt.xlabel('Date')\n",
    "plt.ylabel('Average Trip Duration (seconds)')\n",
    "plt.title('Average Trip Duration per Day in January 2016')\n",
    "plt.show()\n",
    "\n",
    "\n",
    "daily_trip_count.plot(kind='bar', color='orange')\n",
    "plt.xlabel('Date')\n",
    "plt.ylabel('Number of Trips')\n",
    "plt.title('Number of Trips per Day in January 2016')\n",
    "plt.show()"
   ]
  },
  {
   "cell_type": "code",
   "execution_count": 14,
   "id": "2930e198",
   "metadata": {},
   "outputs": [],
   "source": [
    "#!pip install vaex"
   ]
  },
  {
   "cell_type": "code",
   "execution_count": null,
   "id": "accf5a53",
   "metadata": {},
   "outputs": [],
   "source": [
    "#Using vaex"
   ]
  },
  {
   "cell_type": "code",
   "execution_count": 15,
   "id": "a5e47017",
   "metadata": {},
   "outputs": [],
   "source": [
    "import vaex"
   ]
  },
  {
   "cell_type": "code",
   "execution_count": null,
   "id": "2bb601ff",
   "metadata": {},
   "outputs": [],
   "source": [
    "#!pip install --upgrade typing_extensions\n"
   ]
  },
  {
   "cell_type": "code",
   "execution_count": null,
   "id": "c8454a13",
   "metadata": {},
   "outputs": [],
   "source": [
    "#!pip install --upgrade vaex dask\n"
   ]
  },
  {
   "cell_type": "code",
   "execution_count": null,
   "id": "212dc77a",
   "metadata": {},
   "outputs": [],
   "source": [
    "#conda update --all\n"
   ]
  },
  {
   "cell_type": "code",
   "execution_count": 18,
   "id": "60254d42",
   "metadata": {},
   "outputs": [],
   "source": [
    "df_vaex = vaex.from_csv('train_nyc_taxi.csv', convert=True) "
   ]
  },
  {
   "cell_type": "code",
   "execution_count": 19,
   "id": "58b7d8b5",
   "metadata": {},
   "outputs": [
    {
     "name": "stdout",
     "output_type": "stream",
     "text": [
      "  #  id           vendor_id  pickup_datetime      dropoff_datetime       passenger_count    pickup_longitude    pickup_latitude    dropoff_longitude    dropoff_latitude  store_and_fwd_flag      trip_duration\n",
      "  0  id2875421            2  2016-03-14 17:24:55  2016-03-14 17:32:30                  1            -73.9822            40.7679             -73.9646             40.7656  N                                 455\n",
      "  1  id2377394            1  2016-06-12 00:43:35  2016-06-12 00:54:38                  1            -73.9804            40.7386             -73.9995             40.7312  N                                 663\n",
      "  2  id3858529            2  2016-01-19 11:35:24  2016-01-19 12:10:48                  1            -73.979             40.7639             -74.0053             40.7101  N                                2124\n",
      "  3  id3504673            2  2016-04-06 19:32:31  2016-04-06 19:39:40                  1            -74.01              40.72               -74.0123             40.7067  N                                 429\n",
      "  4  id2181028            2  2016-03-26 13:30:55  2016-03-26 13:38:10                  1            -73.9731            40.7932             -73.9729             40.7825  N                                 435\n"
     ]
    }
   ],
   "source": [
    "print(df_vaex.head(5))"
   ]
  },
  {
   "cell_type": "code",
   "execution_count": 20,
   "id": "f4581205",
   "metadata": {},
   "outputs": [],
   "source": [
    "df_vaex['pickup_datetime'] = df_vaex['pickup_datetime'].astype('datetime64[ns]')"
   ]
  },
  {
   "cell_type": "code",
   "execution_count": 21,
   "id": "77d87c19",
   "metadata": {},
   "outputs": [],
   "source": [
    "january_rides_vaex = df_vaex[df_vaex['pickup_datetime'].dt.month == 1]"
   ]
  },
  {
   "cell_type": "code",
   "execution_count": 22,
   "id": "24a5c08e",
   "metadata": {},
   "outputs": [],
   "source": [
    "daily_avg_duration_vaex = january_rides_vaex.groupby(january_rides_vaex['pickup_datetime'].dt.date, agg={'avg_duration': vaex.agg.mean('trip_duration')})"
   ]
  },
  {
   "cell_type": "code",
   "execution_count": 23,
   "id": "13420120",
   "metadata": {},
   "outputs": [
    {
     "name": "stdout",
     "output_type": "stream",
     "text": [
      "#    dt_date(pickup_datetime)    avg_duration\n",
      "0    2016-01-22                  934.4128336172629\n",
      "1    2016-01-16                  889.6823917244515\n",
      "2    2016-01-20                  904.5854327762535\n",
      "3    2016-01-02                  840.0847665847666\n",
      "4    2016-01-23                  1026.5497572815534\n",
      "...  ...                         ...\n",
      "26   2016-01-30                  865.4821077896574\n",
      "27   2016-01-14                  905.2326930047119\n",
      "28   2016-01-29                  939.0287349742415\n",
      "29   2016-01-31                  882.8886571056063\n",
      "30   2016-01-24                  902.1894767957434\n"
     ]
    }
   ],
   "source": [
    "print(daily_avg_duration_vaex)"
   ]
  },
  {
   "cell_type": "code",
   "execution_count": 24,
   "id": "824ca8cb",
   "metadata": {},
   "outputs": [],
   "source": [
    "daily_trip_count_vaex = january_rides_vaex.groupby(january_rides_vaex['pickup_datetime'].dt.date, agg={'trip_count': vaex.agg.count('id')})"
   ]
  },
  {
   "cell_type": "code",
   "execution_count": 25,
   "id": "7ed183f5",
   "metadata": {},
   "outputs": [
    {
     "name": "stdout",
     "output_type": "stream",
     "text": [
      "#    dt_date(pickup_datetime)    trip_count\n",
      "0    2016-01-22                  8805\n",
      "1    2016-01-16                  8797\n",
      "2    2016-01-20                  8018\n",
      "3    2016-01-02                  6512\n",
      "4    2016-01-23                  1648\n",
      "...  ...                         ...\n",
      "26   2016-01-30                  9166\n",
      "27   2016-01-14                  8277\n",
      "28   2016-01-29                  8735\n",
      "29   2016-01-31                  7670\n",
      "30   2016-01-24                  3383\n"
     ]
    }
   ],
   "source": [
    "print(daily_trip_count_vaex)"
   ]
  },
  {
   "cell_type": "code",
   "execution_count": 32,
   "id": "67fd6a89",
   "metadata": {},
   "outputs": [
    {
     "ename": "TypeError",
     "evalue": "heatmap() got an unexpected keyword argument 'kind'",
     "output_type": "error",
     "traceback": [
      "\u001b[1;31m---------------------------------------------------------------------------\u001b[0m",
      "\u001b[1;31mTypeError\u001b[0m                                 Traceback (most recent call last)",
      "\u001b[1;32m~\\AppData\\Local\\Temp\\ipykernel_17544\\100166478.py\u001b[0m in \u001b[0;36m<module>\u001b[1;34m\u001b[0m\n\u001b[1;32m----> 1\u001b[1;33m \u001b[0mdaily_avg_duration_vaex\u001b[0m\u001b[1;33m.\u001b[0m\u001b[0mplot\u001b[0m\u001b[1;33m(\u001b[0m\u001b[0mkind\u001b[0m\u001b[1;33m=\u001b[0m\u001b[1;34m'bar'\u001b[0m\u001b[1;33m)\u001b[0m\u001b[1;33m\u001b[0m\u001b[1;33m\u001b[0m\u001b[0m\n\u001b[0m\u001b[0;32m      2\u001b[0m \u001b[0mplt\u001b[0m\u001b[1;33m.\u001b[0m\u001b[0mxlabel\u001b[0m\u001b[1;33m(\u001b[0m\u001b[1;34m'Date'\u001b[0m\u001b[1;33m)\u001b[0m\u001b[1;33m\u001b[0m\u001b[1;33m\u001b[0m\u001b[0m\n\u001b[0;32m      3\u001b[0m \u001b[0mplt\u001b[0m\u001b[1;33m.\u001b[0m\u001b[0mylabel\u001b[0m\u001b[1;33m(\u001b[0m\u001b[1;34m'Average Trip Duration (seconds)'\u001b[0m\u001b[1;33m)\u001b[0m\u001b[1;33m\u001b[0m\u001b[1;33m\u001b[0m\u001b[0m\n\u001b[0;32m      4\u001b[0m \u001b[0mplt\u001b[0m\u001b[1;33m.\u001b[0m\u001b[0mtitle\u001b[0m\u001b[1;33m(\u001b[0m\u001b[1;34m'Average Trip Duration per Day in January 2016'\u001b[0m\u001b[1;33m)\u001b[0m\u001b[1;33m\u001b[0m\u001b[1;33m\u001b[0m\u001b[0m\n\u001b[0;32m      5\u001b[0m \u001b[0mplt\u001b[0m\u001b[1;33m.\u001b[0m\u001b[0mshow\u001b[0m\u001b[1;33m(\u001b[0m\u001b[1;33m)\u001b[0m\u001b[1;33m\u001b[0m\u001b[1;33m\u001b[0m\u001b[0m\n",
      "\u001b[1;32m~\\anaconda3\\lib\\site-packages\\vaex\\viz\\mpl.py\u001b[0m in \u001b[0;36mplot\u001b[1;34m(self, *args, **kwargs)\u001b[0m\n\u001b[0;32m    314\u001b[0m \u001b[1;32mdef\u001b[0m \u001b[0mplot\u001b[0m\u001b[1;33m(\u001b[0m\u001b[0mself\u001b[0m\u001b[1;33m,\u001b[0m \u001b[1;33m*\u001b[0m\u001b[0margs\u001b[0m\u001b[1;33m,\u001b[0m \u001b[1;33m**\u001b[0m\u001b[0mkwargs\u001b[0m\u001b[1;33m)\u001b[0m\u001b[1;33m:\u001b[0m\u001b[1;33m\u001b[0m\u001b[1;33m\u001b[0m\u001b[0m\n\u001b[0;32m    315\u001b[0m     \u001b[0mwarnings\u001b[0m\u001b[1;33m.\u001b[0m\u001b[0mwarn\u001b[0m\u001b[1;33m(\u001b[0m\u001b[1;34m'`plot` is deprecated and it will be removed in version 5.x. Please `df.viz.heatmap` instead.'\u001b[0m\u001b[1;33m)\u001b[0m\u001b[1;33m\u001b[0m\u001b[1;33m\u001b[0m\u001b[0m\n\u001b[1;32m--> 316\u001b[1;33m     \u001b[0mself\u001b[0m\u001b[1;33m.\u001b[0m\u001b[0mviz\u001b[0m\u001b[1;33m.\u001b[0m\u001b[0mheatmap\u001b[0m\u001b[1;33m(\u001b[0m\u001b[1;33m*\u001b[0m\u001b[0margs\u001b[0m\u001b[1;33m,\u001b[0m \u001b[1;33m**\u001b[0m\u001b[0mkwargs\u001b[0m\u001b[1;33m)\u001b[0m\u001b[1;33m\u001b[0m\u001b[1;33m\u001b[0m\u001b[0m\n\u001b[0m\u001b[0;32m    317\u001b[0m \u001b[1;33m\u001b[0m\u001b[0m\n\u001b[0;32m    318\u001b[0m \u001b[1;33m\u001b[0m\u001b[0m\n",
      "\u001b[1;32m~\\anaconda3\\lib\\site-packages\\vaex\\viz\\mpl.py\u001b[0m in \u001b[0;36mwrapper\u001b[1;34m(self, *args, **kwargs)\u001b[0m\n\u001b[0;32m     30\u001b[0m     \u001b[1;33m@\u001b[0m\u001b[0mfunctools\u001b[0m\u001b[1;33m.\u001b[0m\u001b[0mwraps\u001b[0m\u001b[1;33m(\u001b[0m\u001b[0mf\u001b[0m\u001b[1;33m)\u001b[0m\u001b[1;33m\u001b[0m\u001b[1;33m\u001b[0m\u001b[0m\n\u001b[0;32m     31\u001b[0m     \u001b[1;32mdef\u001b[0m \u001b[0mwrapper\u001b[0m\u001b[1;33m(\u001b[0m\u001b[0mself\u001b[0m\u001b[1;33m,\u001b[0m \u001b[1;33m*\u001b[0m\u001b[0margs\u001b[0m\u001b[1;33m,\u001b[0m \u001b[1;33m**\u001b[0m\u001b[0mkwargs\u001b[0m\u001b[1;33m)\u001b[0m\u001b[1;33m:\u001b[0m\u001b[1;33m\u001b[0m\u001b[1;33m\u001b[0m\u001b[0m\n\u001b[1;32m---> 32\u001b[1;33m         \u001b[1;32mreturn\u001b[0m \u001b[0mf\u001b[0m\u001b[1;33m(\u001b[0m\u001b[0mself\u001b[0m\u001b[1;33m.\u001b[0m\u001b[0mdf\u001b[0m\u001b[1;33m,\u001b[0m \u001b[1;33m*\u001b[0m\u001b[0margs\u001b[0m\u001b[1;33m,\u001b[0m \u001b[1;33m**\u001b[0m\u001b[0mkwargs\u001b[0m\u001b[1;33m)\u001b[0m\u001b[1;33m\u001b[0m\u001b[1;33m\u001b[0m\u001b[0m\n\u001b[0m\u001b[0;32m     33\u001b[0m     \u001b[1;32mfrom\u001b[0m \u001b[1;33m.\u001b[0m \u001b[1;32mimport\u001b[0m \u001b[0mDataFrameAccessorViz\u001b[0m \u001b[1;32mas\u001b[0m \u001b[0mcls\u001b[0m\u001b[1;33m\u001b[0m\u001b[1;33m\u001b[0m\u001b[0m\n\u001b[0;32m     34\u001b[0m     \u001b[0msetattr\u001b[0m\u001b[1;33m(\u001b[0m\u001b[0mcls\u001b[0m\u001b[1;33m,\u001b[0m \u001b[0mf\u001b[0m\u001b[1;33m.\u001b[0m\u001b[0m__name__\u001b[0m\u001b[1;33m,\u001b[0m \u001b[0mwrapper\u001b[0m\u001b[1;33m)\u001b[0m\u001b[1;33m\u001b[0m\u001b[1;33m\u001b[0m\u001b[0m\n",
      "\u001b[1;31mTypeError\u001b[0m: heatmap() got an unexpected keyword argument 'kind'"
     ]
    }
   ],
   "source": [
    "daily_avg_duration_vaex.plot(kind='bar')\n",
    "plt.xlabel('Date')\n",
    "plt.ylabel('Average Trip Duration (seconds)')\n",
    "plt.title('Average Trip Duration per Day in January 2016')\n",
    "plt.show()\n",
    "\n",
    "\n",
    "daily_trip_count_vaex.plot(kind='bar', color='orange')\n",
    "plt.xlabel('Date')\n",
    "plt.ylabel('Number of Trips')\n",
    "plt.title('Number of Trips per Day in January 2016')\n",
    "plt.show()"
   ]
  },
  {
   "cell_type": "code",
   "execution_count": null,
   "id": "ac170618",
   "metadata": {},
   "outputs": [],
   "source": []
  }
 ],
 "metadata": {
  "kernelspec": {
   "display_name": "Python 3 (ipykernel)",
   "language": "python",
   "name": "python3"
  },
  "language_info": {
   "codemirror_mode": {
    "name": "ipython",
    "version": 3
   },
   "file_extension": ".py",
   "mimetype": "text/x-python",
   "name": "python",
   "nbconvert_exporter": "python",
   "pygments_lexer": "ipython3",
   "version": "3.9.13"
  }
 },
 "nbformat": 4,
 "nbformat_minor": 5
}
